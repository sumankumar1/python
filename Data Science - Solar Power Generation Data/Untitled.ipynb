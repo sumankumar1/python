{
 "cells": [
  {
   "cell_type": "code",
   "execution_count": 2,
   "metadata": {},
   "outputs": [],
   "source": [
    "import numpy as np\n",
    "import pandas as pd\n",
    "import matplotlib as plt\n",
    "from sklearn import datasets"
   ]
  },
  {
   "cell_type": "code",
   "execution_count": 11,
   "metadata": {},
   "outputs": [],
   "source": [
    "# Read Data from CSV\n",
    "plant1_generation_data = pd.read_csv(\".\\Data\\Plant_1_Generation_Data.csv\")\n",
    "plant2_generation_data = pd.read_csv(\".\\Data\\Plant_2_Generation_Data.csv\")\n",
    "Plant_1_Weather_Sensor_Data = pd.read_csv(\".\\Data\\Plant_1_Weather_Sensor_Data.csv\")\n",
    "Plant_2_Weather_Sensor_Data = pd.read_csv(\".\\Data\\Plant_2_Weather_Sensor_Data.csv\")\n",
    "# Make a copy for furthur study\n",
    "plant1_g = plant1_generation_data\n",
    "plant2_g = plant2_generation_data\n",
    "plant1_ws = Plant_1_Weather_Sensor_Data\n",
    "plant2_ws = Plant_2_Weather_Sensor_Data"
   ]
  },
  {
   "cell_type": "code",
   "execution_count": 26,
   "metadata": {},
   "outputs": [
    {
     "data": {
      "text/html": [
       "<div>\n",
       "<style scoped>\n",
       "    .dataframe tbody tr th:only-of-type {\n",
       "        vertical-align: middle;\n",
       "    }\n",
       "\n",
       "    .dataframe tbody tr th {\n",
       "        vertical-align: top;\n",
       "    }\n",
       "\n",
       "    .dataframe thead th {\n",
       "        text-align: right;\n",
       "    }\n",
       "</style>\n",
       "<table border=\"1\" class=\"dataframe\">\n",
       "  <thead>\n",
       "    <tr style=\"text-align: right;\">\n",
       "      <th></th>\n",
       "      <th>DATE_TIME</th>\n",
       "      <th>PLANT_ID</th>\n",
       "      <th>SOURCE_KEY</th>\n",
       "      <th>DC_POWER</th>\n",
       "      <th>AC_POWER</th>\n",
       "      <th>DAILY_YIELD</th>\n",
       "      <th>TOTAL_YIELD</th>\n",
       "    </tr>\n",
       "  </thead>\n",
       "  <tbody>\n",
       "    <tr>\n",
       "      <th>68773</th>\n",
       "      <td>17-06-2020 23:45</td>\n",
       "      <td>4135001</td>\n",
       "      <td>uHbuxQJl8lW7ozc</td>\n",
       "      <td>0.0</td>\n",
       "      <td>0.0</td>\n",
       "      <td>5967.00</td>\n",
       "      <td>7.29e+06</td>\n",
       "    </tr>\n",
       "    <tr>\n",
       "      <th>68774</th>\n",
       "      <td>17-06-2020 23:45</td>\n",
       "      <td>4135001</td>\n",
       "      <td>wCURE6d3bPkepu2</td>\n",
       "      <td>0.0</td>\n",
       "      <td>0.0</td>\n",
       "      <td>5147.62</td>\n",
       "      <td>7.03e+06</td>\n",
       "    </tr>\n",
       "    <tr>\n",
       "      <th>68775</th>\n",
       "      <td>17-06-2020 23:45</td>\n",
       "      <td>4135001</td>\n",
       "      <td>z9Y9gH1T5YWrNuG</td>\n",
       "      <td>0.0</td>\n",
       "      <td>0.0</td>\n",
       "      <td>5819.00</td>\n",
       "      <td>7.25e+06</td>\n",
       "    </tr>\n",
       "    <tr>\n",
       "      <th>68776</th>\n",
       "      <td>17-06-2020 23:45</td>\n",
       "      <td>4135001</td>\n",
       "      <td>zBIq5rxdHJRwDNY</td>\n",
       "      <td>0.0</td>\n",
       "      <td>0.0</td>\n",
       "      <td>5817.00</td>\n",
       "      <td>6.58e+06</td>\n",
       "    </tr>\n",
       "    <tr>\n",
       "      <th>68777</th>\n",
       "      <td>17-06-2020 23:45</td>\n",
       "      <td>4135001</td>\n",
       "      <td>zVJPv84UY57bAof</td>\n",
       "      <td>0.0</td>\n",
       "      <td>0.0</td>\n",
       "      <td>5910.00</td>\n",
       "      <td>7.36e+06</td>\n",
       "    </tr>\n",
       "  </tbody>\n",
       "</table>\n",
       "</div>"
      ],
      "text/plain": [
       "              DATE_TIME  PLANT_ID       SOURCE_KEY  DC_POWER  AC_POWER  \\\n",
       "68773  17-06-2020 23:45   4135001  uHbuxQJl8lW7ozc       0.0       0.0   \n",
       "68774  17-06-2020 23:45   4135001  wCURE6d3bPkepu2       0.0       0.0   \n",
       "68775  17-06-2020 23:45   4135001  z9Y9gH1T5YWrNuG       0.0       0.0   \n",
       "68776  17-06-2020 23:45   4135001  zBIq5rxdHJRwDNY       0.0       0.0   \n",
       "68777  17-06-2020 23:45   4135001  zVJPv84UY57bAof       0.0       0.0   \n",
       "\n",
       "       DAILY_YIELD  TOTAL_YIELD  \n",
       "68773      5967.00     7.29e+06  \n",
       "68774      5147.62     7.03e+06  \n",
       "68775      5819.00     7.25e+06  \n",
       "68776      5817.00     6.58e+06  \n",
       "68777      5910.00     7.36e+06  "
      ]
     },
     "execution_count": 26,
     "metadata": {},
     "output_type": "execute_result"
    }
   ],
   "source": [
    "plant1_g.tail()"
   ]
  },
  {
   "cell_type": "code",
   "execution_count": 13,
   "metadata": {},
   "outputs": [
    {
     "name": "stdout",
     "output_type": "stream",
     "text": [
      "<class 'pandas.core.frame.DataFrame'>\n",
      "RangeIndex: 68778 entries, 0 to 68777\n",
      "Data columns (total 7 columns):\n",
      " #   Column       Non-Null Count  Dtype  \n",
      "---  ------       --------------  -----  \n",
      " 0   DATE_TIME    68778 non-null  object \n",
      " 1   PLANT_ID     68778 non-null  int64  \n",
      " 2   SOURCE_KEY   68778 non-null  object \n",
      " 3   DC_POWER     68778 non-null  float64\n",
      " 4   AC_POWER     68778 non-null  float64\n",
      " 5   DAILY_YIELD  68778 non-null  float64\n",
      " 6   TOTAL_YIELD  68778 non-null  float64\n",
      "dtypes: float64(4), int64(1), object(2)\n",
      "memory usage: 3.7+ MB\n"
     ]
    }
   ],
   "source": [
    "plant1_g.info() # Categorical and numerical data info"
   ]
  },
  {
   "cell_type": "code",
   "execution_count": 31,
   "metadata": {},
   "outputs": [
    {
     "data": {
      "text/html": [
       "<div>\n",
       "<style scoped>\n",
       "    .dataframe tbody tr th:only-of-type {\n",
       "        vertical-align: middle;\n",
       "    }\n",
       "\n",
       "    .dataframe tbody tr th {\n",
       "        vertical-align: top;\n",
       "    }\n",
       "\n",
       "    .dataframe thead th {\n",
       "        text-align: right;\n",
       "    }\n",
       "</style>\n",
       "<table border=\"1\" class=\"dataframe\">\n",
       "  <thead>\n",
       "    <tr style=\"text-align: right;\">\n",
       "      <th></th>\n",
       "      <th>DC_POWER</th>\n",
       "      <th>AC_POWER</th>\n",
       "      <th>DAILY_YIELD</th>\n",
       "      <th>TOTAL_YIELD</th>\n",
       "    </tr>\n",
       "  </thead>\n",
       "  <tbody>\n",
       "    <tr>\n",
       "      <th>count</th>\n",
       "      <td>68778.000</td>\n",
       "      <td>68778.000</td>\n",
       "      <td>68778.000</td>\n",
       "      <td>68778.000</td>\n",
       "    </tr>\n",
       "    <tr>\n",
       "      <th>mean</th>\n",
       "      <td>3147.426</td>\n",
       "      <td>307.803</td>\n",
       "      <td>3295.969</td>\n",
       "      <td>6978711.761</td>\n",
       "    </tr>\n",
       "    <tr>\n",
       "      <th>std</th>\n",
       "      <td>4036.457</td>\n",
       "      <td>394.396</td>\n",
       "      <td>3145.178</td>\n",
       "      <td>416271.983</td>\n",
       "    </tr>\n",
       "    <tr>\n",
       "      <th>min</th>\n",
       "      <td>0.000</td>\n",
       "      <td>0.000</td>\n",
       "      <td>0.000</td>\n",
       "      <td>6183645.000</td>\n",
       "    </tr>\n",
       "    <tr>\n",
       "      <th>25%</th>\n",
       "      <td>0.000</td>\n",
       "      <td>0.000</td>\n",
       "      <td>0.000</td>\n",
       "      <td>6512002.536</td>\n",
       "    </tr>\n",
       "    <tr>\n",
       "      <th>50%</th>\n",
       "      <td>429.000</td>\n",
       "      <td>41.494</td>\n",
       "      <td>2658.714</td>\n",
       "      <td>7146685.000</td>\n",
       "    </tr>\n",
       "    <tr>\n",
       "      <th>75%</th>\n",
       "      <td>6366.964</td>\n",
       "      <td>623.619</td>\n",
       "      <td>6274.000</td>\n",
       "      <td>7268705.906</td>\n",
       "    </tr>\n",
       "    <tr>\n",
       "      <th>max</th>\n",
       "      <td>14471.125</td>\n",
       "      <td>1410.950</td>\n",
       "      <td>9163.000</td>\n",
       "      <td>7846821.000</td>\n",
       "    </tr>\n",
       "  </tbody>\n",
       "</table>\n",
       "</div>"
      ],
      "text/plain": [
       "       DC_POWER  AC_POWER  DAILY_YIELD  TOTAL_YIELD\n",
       "count 68778.000 68778.000    68778.000    68778.000\n",
       "mean   3147.426   307.803     3295.969  6978711.761\n",
       "std    4036.457   394.396     3145.178   416271.983\n",
       "min       0.000     0.000        0.000  6183645.000\n",
       "25%       0.000     0.000        0.000  6512002.536\n",
       "50%     429.000    41.494     2658.714  7146685.000\n",
       "75%    6366.964   623.619     6274.000  7268705.906\n",
       "max   14471.125  1410.950     9163.000  7846821.000"
      ]
     },
     "execution_count": 31,
     "metadata": {},
     "output_type": "execute_result"
    }
   ],
   "source": [
    "# Basic Stats for numerical data\n",
    "pd.options.display.float_format = '{:.3f}'.format\n",
    "plant1_g.iloc[:,3:7].describe()"
   ]
  },
  {
   "cell_type": "code",
   "execution_count": 36,
   "metadata": {},
   "outputs": [
    {
     "data": {
      "text/plain": [
       "<matplotlib.axes._subplots.AxesSubplot at 0x1c9e728ddc0>"
      ]
     },
     "execution_count": 36,
     "metadata": {},
     "output_type": "execute_result"
    },
    {
     "data": {
      "image/png": "[encoded data removed]",
      "text/plain": [
       "<Figure size 432x288 with 1 Axes>"
      ]
     },
     "metadata": {
      "needs_background": "light"
     },
     "output_type": "display_data"
    }
   ],
   "source": [
    "plant1_g.iloc[:,3:6].boxplot()"
   ]
  },
  {
   "cell_type": "code",
   "execution_count": 42,
   "metadata": {},
   "outputs": [
    {
     "data": {
      "text/plain": [
       "<matplotlib.axes._subplots.AxesSubplot at 0x1c9e62aecd0>"
      ]
     },
     "execution_count": 42,
     "metadata": {},
     "output_type": "execute_result"
    },
    {
     "data": {
      "image/png": "[encoded data removed]",
      "text/plain": [
       "<Figure size 432x288 with 1 Axes>"
      ]
     },
     "metadata": {
      "needs_background": "light"
     },
     "output_type": "display_data"
    }
   ],
   "source": [
    "plant1_g.iloc[:,6:7].boxplot()"
   ]
  },
  {
   "cell_type": "code",
   "execution_count": 44,
   "metadata": {},
   "outputs": [
    {
     "data": {
      "text/plain": [
       "array([[<matplotlib.axes._subplots.AxesSubplot object at 0x000001C9E630EE80>,\n",
       "        <matplotlib.axes._subplots.AxesSubplot object at 0x000001C9E63514C0>],\n",
       "       [<matplotlib.axes._subplots.AxesSubplot object at 0x000001C9E637D910>,\n",
       "        <matplotlib.axes._subplots.AxesSubplot object at 0x000001C9E63AAD90>]],\n",
       "      dtype=object)"
      ]
     },
     "execution_count": 44,
     "metadata": {},
     "output_type": "execute_result"
    },
    {
     "data": {
      "image/png": "[encoded data removed]",
      "text/plain": [
       "<Figure size 432x288 with 4 Axes>"
      ]
     },
     "metadata": {
      "needs_background": "light"
     },
     "output_type": "display_data"
    }
   ],
   "source": [
    "plant1_g.iloc[:,3:7].hist()"
   ]
  },
  {
   "cell_type": "code",
   "execution_count": 52,
   "metadata": {},
   "outputs": [
    {
     "data": {
      "text/plain": [
       "<matplotlib.axes._subplots.AxesSubplot at 0x1c9f3eebd00>"
      ]
     },
     "execution_count": 52,
     "metadata": {},
     "output_type": "execute_result"
    },
    {
     "data": {
      "image/png": "[encoded data removed]",
      "text/plain": [
       "<Figure size 432x288 with 1 Axes>"
      ]
     },
     "metadata": {
      "needs_background": "light"
     },
     "output_type": "display_data"
    }
   ],
   "source": [
    "plant1_g.iloc[:,3:5].plot.area()"
   ]
  },
  {
   "cell_type": "code",
   "execution_count": null,
   "metadata": {},
   "outputs": [],
   "source": []
  }
 ],
 "metadata": {
  "kernelspec": {
   "display_name": "Python 3",
   "language": "python",
   "name": "python3"
  },
  "language_info": {
   "codemirror_mode": {
    "name": "ipython",
    "version": 3
   },
   "file_extension": ".py",
   "mimetype": "text/x-python",
   "name": "python",
   "nbconvert_exporter": "python",
   "pygments_lexer": "ipython3",
   "version": "3.8.3"
  }
 },
 "nbformat": 4,
 "nbformat_minor": 4
}
